{
 "cells": [
  {
   "cell_type": "markdown",
   "metadata": {},
   "source": [
    "Phase 2: Indexing and Optimization\n",
    "1. Rewrite the queries developed in Phase 1 in case they can be\n",
    "optimized\n",
    "2. Apply indexes to both your databases (relational and NoSQL) to\n",
    "improve the performance of your complex operations implemented in\n",
    "Phase 1\n",
    "3. Introduce changes to the relational schema to improve the\n",
    "performance\n",
    "4. Consider alterations to the data model in NoSQL to improve the\n",
    "performance\n",
    "5. Test the performance of your queries in your databases with prior\n",
    "optimization and after optimization\n",
    "6. Demonstrate the impact of the options 1-4 in each query\n",
    "performance\n",
    "7. Discuss the trade-offs (if any) between each design choice for each\n",
    "query"
   ]
  }
 ],
 "metadata": {
  "kernelspec": {
   "display_name": "venv",
   "language": "python",
   "name": "python3"
  },
  "language_info": {
   "codemirror_mode": {
    "name": "ipython",
    "version": 3
   },
   "file_extension": ".py",
   "mimetype": "text/x-python",
   "name": "python",
   "nbconvert_exporter": "python",
   "pygments_lexer": "ipython3",
   "version": "3.10.11"
  }
 },
 "nbformat": 4,
 "nbformat_minor": 2
}
