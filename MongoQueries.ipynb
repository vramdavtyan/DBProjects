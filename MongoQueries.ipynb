{
 "cells": [
  {
   "cell_type": "markdown",
   "metadata": {},
   "source": [
    "\n",
    "#### 1.1 How many goals were attempted by head\n",
    "#### 1.2 How many matches had attendees more than 12000\n",
    "#### 2.1 Shots list where goal was scored outside 16m box sorted by descending order\n",
    "#### 2.2 Rank teams based on average attendance at home games "
   ]
  },
  {
   "cell_type": "code",
   "execution_count": 1,
   "metadata": {},
   "outputs": [],
   "source": [
    "from MongoStruct import *  "
   ]
  },
  {
   "cell_type": "markdown",
   "metadata": {},
   "source": [
    "### Load all preprocessed data, dataframes and collections and show the Execution Time"
   ]
  },
  {
   "cell_type": "code",
   "execution_count": 2,
   "metadata": {},
   "outputs": [
    {
     "name": "stdout",
     "output_type": "stream",
     "text": [
      "----Loading Mongo----\n",
      "Database dropped\n",
      "shots Collection dropped\n",
      "matches Collection dropped\n",
      "players Collection dropped\n",
      "teams Collection dropped\n",
      "# shots documents: 245180\n",
      "# matches documents: 14148\n",
      "# players documents: 20414\n",
      "# teams documents: 675\n",
      "Execution time: 22.190534114837646 seconds\n"
     ]
    }
   ],
   "source": [
    "@measure_execution_time\n",
    "def MongoExecTime():\n",
    "    return get_all_data()\n",
    "\n",
    "print('----Loading Mongo----')\n",
    "result, execution_time = MongoExecTime()  # Get both the result and execution time\n",
    "\n",
    "# Unpack the 9 values from the result\n",
    "client, shots_collection, matches_collection, players_collection, teams_collection, df_shots, df_matches, df_players, df_teams = result"
   ]
  },
  {
   "cell_type": "code",
   "execution_count": 3,
   "metadata": {},
   "outputs": [],
   "source": [
    "# print(df_shots.columns)\n",
    "# print(df_shots.head(5))\n",
    "# print(df_matches.columns)\n",
    "# print(df_matches.head(5))\n",
    "# print(df_players.columns)\n",
    "# print(df_players.head(-5))\n",
    "# print(df_teams.columns)\n",
    "# print(df_teams.head(5))"
   ]
  },
  {
   "cell_type": "markdown",
   "metadata": {},
   "source": [
    "# 1.1 How many goals were attempted by head"
   ]
  },
  {
   "cell_type": "code",
   "execution_count": 4,
   "metadata": {},
   "outputs": [
    {
     "name": "stdout",
     "output_type": "stream",
     "text": [
      "{'_id': ObjectId('674afe98fba2d60f74c56dc4'), 'Player': '4a1a9578', 'Outcome': 'Goal', 'Distance': 8.0, 'Body Part': 'Head', 'match_id': 'de515487'}\n",
      "Number of documents in cursor: 3963\n",
      "Query 1.1\n",
      "Execution time: 0.16304230690002441 seconds\n"
     ]
    }
   ],
   "source": [
    "@measure_execution_time\n",
    "def MongoQ1_1():\n",
    "    # Define the query\n",
    "    myquery = {\"Outcome\": \"Goal\" ,'Body Part':'Head'}\n",
    "    # Execute the query\n",
    "    result = shots_collection.find(myquery)\n",
    "    print(result[0])\n",
    "    cursor_list = list(result)\n",
    "    print(f\"Number of documents in cursor: {len(cursor_list)}\")\n",
    "    # # Print the results\n",
    "    # for i in range(5):\n",
    "    #     print(result[i])\n",
    "    # print(results.alive)\n",
    "    # print(type(results))\n",
    "    print('Query 1.1')\n",
    "\n",
    "result, execution_time=MongoQ1_1()"
   ]
  },
  {
   "cell_type": "markdown",
   "metadata": {},
   "source": [
    "# 1.2 How many matches had attendees more than 12000"
   ]
  },
  {
   "cell_type": "code",
   "execution_count": 5,
   "metadata": {},
   "outputs": [
    {
     "name": "stdout",
     "output_type": "stream",
     "text": [
      "{'_id': ObjectId('674afe9bfba2d60f74c92b81'), 'id': '0006415c', 'Date': '2022-10-09', 'league': 11, 'Round': 11, 'Day': 'Sun', 'Attendance': 24671, 'home_id': '04eea015', 'away_id': '922493f3', 'score_away': 2, 'score_home': 2, 'position_home': 59, 'position_away': 41, 'home_capitan': '/en/players/75f2c59f/Roberto-Pereyra', 'away_capitan': '/en/players/2a1beb34/Marten-de-Roon', 'home_xg': 1.0, 'away_xg': 2.1, 'home_xga': 2.1, 'away_xga': 1.0, 'home_formation': '3-5-2', 'away_formation': '3-4-1-2', 'Timestamp': '2022-10-09 15:00:00'}\n",
      "Number of documents in cursor: 9166\n",
      "Query 1.2\n",
      "Execution time: 0.06702518463134766 seconds\n"
     ]
    }
   ],
   "source": [
    "@measure_execution_time\n",
    "def MongoQ1_2():\n",
    "    # Define the query\n",
    "    myquery = {\"Attendance\":{\"$gt\": 12000}}\n",
    "\n",
    "    # Execute the query\n",
    "    result = matches_collection.find(myquery)\n",
    "\n",
    "    print(result[0])\n",
    "\n",
    "    # # Print the results\n",
    "    # for i in range(5):\n",
    "    #     print(result[i])\n",
    "\n",
    "    # print(results.alive)\n",
    "    # print(type(results))\n",
    "    cursor_list = list(result)\n",
    "    print(f\"Number of documents in cursor: {len(cursor_list)}\")\n",
    "    print('Query 1.2')\n",
    "\n",
    "result, execution_time=MongoQ1_2()"
   ]
  },
  {
   "cell_type": "markdown",
   "metadata": {},
   "source": [
    "#### 2.1 Total Goals Scoared and Inside VS Outside 16m box"
   ]
  },
  {
   "cell_type": "code",
   "execution_count": null,
   "metadata": {},
   "outputs": [
    {
     "name": "stdout",
     "output_type": "stream",
     "text": [
      "\n",
      "Final Merged Results:\n",
      "Result with the names\n",
      "                 Name  total_goals  gt_16  lt_16\n",
      "0       Kylian-Mbappe          147     27    120\n",
      "1  Robert-Lewandowski          146     15    131\n",
      "2          Harry-Kane          120     21     99\n",
      "3        Lionel-Messi          106     37     69\n",
      "4       Ciro-Immobile          104     10     94\n",
      "5       Karim-Benzema          104     16     88\n",
      "6       Mohamed-Salah          104     14     90\n",
      "7      Erling-Haaland          102      7     95\n",
      "8   Wissam-Ben-Yedder           92      3     89\n",
      "9    Lautaro-Martinez           89     15     74\n",
      "Query 2.1\n",
      "Execution time: 0.32807064056396484 seconds\n"
     ]
    }
   ],
   "source": [
    "@measure_execution_time\n",
    "def MongoQ2_1():\n",
    "    pipeline = [\n",
    "        {\n",
    "            '$match': {\n",
    "                'Outcome': 'Goal'  # Filter only for documents where Outcome is 'Goal'\n",
    "            }\n",
    "        },\n",
    "        {\n",
    "            '$group': {\n",
    "                '_id': {\n",
    "                    'Player': '$Player',  # Group by Player\n",
    "                    'Outcome': '$Outcome'  # Include Outcome in the grouping (always 'Goal')\n",
    "                },\n",
    "                'gt_16': {\n",
    "                    '$sum': {\n",
    "                        '$cond': [{'$gt': ['$Distance', 16]}, 1, 0]  # Count distances > 16\n",
    "                    }\n",
    "                },\n",
    "                'total_goals': {'$sum': 1}  # Count the total goals for each player\n",
    "            }\n",
    "        },\n",
    "        {\n",
    "            '$addFields': {\n",
    "                'lt_16': {'$subtract': ['$total_goals', '$gt_16']}  # Compute distances <= 16\n",
    "            }\n",
    "        },\n",
    "        {\n",
    "            '$sort': {'total_goals': -1}  # Sort by total_goals in descending order\n",
    "        }\n",
    "    ]\n",
    "\n",
    "    # print(f\"\\nResults for GROUP query:\")\n",
    "    # print(\"Result before getting the names from id\")\n",
    "\n",
    "    result = list(shots_collection.aggregate(pipeline))\n",
    "\n",
    "    df=pd.DataFrame(result)\n",
    "    # df['id']=df['_id'].str.split(',').str[4]\n",
    "    # result=result[:10]\n",
    "    # for doc in result:\n",
    "    #     print(f\"Player: {doc['_id']['Player']}, Goals outside the box (> 16m): {doc['gt_16']}, Goals inside the box(< 16m): {doc['lt_16']}, Total goals scored: {doc['total_goals']}\")\n",
    "\n",
    "    # print(df)\n",
    "    \n",
    "    results_from_shots = list(shots_collection.aggregate(pipeline))\n",
    "\n",
    "    # Extract unique player IDs from the previous query's output\n",
    "    player_ids = [doc['_id']['Player'] for doc in results_from_shots]\n",
    "\n",
    "    # Query to fetch player names based on the IDs\n",
    "    player_lookup_query = {\n",
    "        'id': {'$in': player_ids}  # Match IDs from players_collection\n",
    "    }\n",
    "\n",
    "    # Project only necessary fields (e.g., 'id' and 'name')\n",
    "    player_projection = {\n",
    "        '_id': 0,  # Exclude MongoDB's default _id field\n",
    "        'id': 1,\n",
    "        'name': 1\n",
    "    }\n",
    "\n",
    "    # Run the query on players_collection\n",
    "    player_info = list(players_collection.find(player_lookup_query, player_projection))\n",
    "\n",
    "    # Create a mapping of player IDs to names\n",
    "    player_name_map = {player['id']: player['name'] for player in player_info}\n",
    "\n",
    "    # Merge player names into the first query's result\n",
    "    for doc in results_from_shots:\n",
    "        player_id = doc['_id']['Player']\n",
    "        doc['_id']['Name'] = player_name_map.get(player_id, 'Unknown')  # Add name or 'Unknown' if not found\n",
    "\n",
    "    # Print the final merged result\n",
    "    print(\"\\nFinal Merged Results:\")\n",
    "    print(\"Result with the names\")\n",
    "\n",
    "    # results = results_from_shots[:10]\n",
    "    # for doc in results:\n",
    "    #     print(f\"Name: {doc['_id']['Name']}, Goals scored: {doc['total_goals']}, Distance > 16m: {doc['gt_16']}, Distance < 16m: {doc['lt_16']}\")\n",
    "\n",
    "    df=pd.DataFrame(list(results_from_shots))\n",
    "    df['Name'] = df['_id'].apply(lambda x: x['Name'])\n",
    "    df=df.drop(columns=['_id'])\n",
    "    df = df[['Name','total_goals','gt_16', 'lt_16']]\n",
    "    # Sorting with Pandas\n",
    "    # df=df.sort_values(by='total_goals',ascending=False)\n",
    "    print(df.head(10))\n",
    "    print('Query 2.1')\n",
    "\n",
    "\n",
    "result, execution_time=MongoQ2_1()"
   ]
  },
  {
   "cell_type": "markdown",
   "metadata": {},
   "source": [
    "#### 2.2 Rank teams based on average attendance at home games"
   ]
  },
  {
   "cell_type": "code",
   "execution_count": 7,
   "metadata": {},
   "outputs": [
    {
     "name": "stdout",
     "output_type": "stream",
     "text": [
      "\n",
      "Final Merged Results:\n",
      "                Name  average_attendance  matches_count\n",
      "0  Manchester United        56407.227273            176\n",
      "1           Dortmund        56036.021583            139\n",
      "2            Benfica        54471.142857             14\n",
      "3            Unknown        52851.000000              3\n",
      "4       Hamburger SV        52331.000000              3\n",
      "5          Barcelona        51691.458599            157\n",
      "6      Bayern Munich        50702.652482            141\n",
      "7            Unknown        48031.500000              8\n",
      "8        Real Madrid        47265.540373            161\n",
      "9    West Ham United        46952.068966            145\n",
      "Query 2.2\n",
      "Execution time: 0.05250144004821777 seconds\n"
     ]
    }
   ],
   "source": [
    "@measure_execution_time\n",
    "def MongoQ2_2():\n",
    "    pipeline_1 = [\n",
    "        {\n",
    "            '$group': {\n",
    "                '_id': '$home_id',  # Group by home_id\n",
    "                'average_attendance': {'$avg': '$Attendance'}, \n",
    "                'matches_count': {'$sum': 1}\n",
    "            }},\n",
    "        {\n",
    "            '$sort': {'average_attendance': -1}\n",
    "        }\n",
    "    ]\n",
    "\n",
    "    # print(f\"\\nResults for GROUP query:\")\n",
    "    result = list(matches_collection.aggregate(pipeline_1))\n",
    "    # result=result[:10]\n",
    "    # for doc in result:\n",
    "    #     print(f\"Home_id: {doc['_id']}, Average Attendace: {doc['average_attendance']:.1f}, Matches Count: {doc['matches_count']}\")\n",
    "\n",
    "    df=pd.DataFrame(list(result))\n",
    "    # print(df.head(10))\n",
    "\n",
    "    results_from_matches = list(matches_collection.aggregate(pipeline_1))\n",
    "    # Extract unique teams IDs (adjusted based on `_id` type)\n",
    "    home_ids = [doc['_id'] for doc in results_from_matches]\n",
    "\n",
    "    # Query to fetch player names based on the IDs\n",
    "    team_lookup_query = {\n",
    "        'id': {'$in': home_ids}  # Match IDs from teams_collection\n",
    "    }\n",
    "\n",
    "    # Project only necessary fields (e.g., 'id' and 'name')\n",
    "    team_projection = {\n",
    "        '_id': 0,  # Exclude MongoDB's default _id field\n",
    "        'id': 1,\n",
    "        'name': 1\n",
    "    }\n",
    "\n",
    "    # Run the query on teams_collection\n",
    "    team_info = list(teams_collection.find(team_lookup_query, team_projection))\n",
    "\n",
    "    # Create a mapping of team IDs to names\n",
    "    team_name_map = {team['id']: team['name'] for team in team_info}\n",
    "\n",
    "    # Merge teams names into the first query's result\n",
    "    for doc in results_from_matches:\n",
    "        team_id = doc['_id']  \n",
    "        doc['Name'] = team_name_map.get(team_id, 'Unknown')  # Add name or 'Unknown' if not found\n",
    "\n",
    "    # Print the final merged result\n",
    "    print(\"\\nFinal Merged Results:\")\n",
    "    # results = results_from_matches[:10]\n",
    "    # for doc in results:\n",
    "    #     print(f\"Team Name: {doc['Name']}, Average Attendance: {doc['average_attendance']:.0f}, Matches Count: {doc['matches_count']}\")\n",
    "\n",
    "    df=pd.DataFrame(list(results_from_matches))\n",
    "    df=df[['Name','average_attendance','matches_count']]\n",
    "    print(df.head(10))\n",
    "    print('Query 2.2')\n",
    "\n",
    "result, execution_time=MongoQ2_2()"
   ]
  }
 ],
 "metadata": {
  "kernelspec": {
   "display_name": "venv",
   "language": "python",
   "name": "python3"
  },
  "language_info": {
   "codemirror_mode": {
    "name": "ipython",
    "version": 3
   },
   "file_extension": ".py",
   "mimetype": "text/x-python",
   "name": "python",
   "nbconvert_exporter": "python",
   "pygments_lexer": "ipython3",
   "version": "3.10.11"
  }
 },
 "nbformat": 4,
 "nbformat_minor": 4
}
