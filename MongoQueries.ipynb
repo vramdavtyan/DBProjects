{
 "cells": [
  {
   "cell_type": "markdown",
   "metadata": {},
   "source": [
    "\n",
    "#### 1.1 How many goals were attempted by head\n",
    "#### 1.2 How many matches had attendees more than 12000\n",
    "#### 2.1 Shots list where goal was scored outside 16m box\n",
    "#### 2.2 Rank teams based on average attendance at home games \n",
    "#### 2.2* \n",
    "calc goals for each team, for home and away correspondingly\n",
    "which teams were most advantaged when playing at home\n",
    "average difference of goals per team [ex. 3-1(2) 4-7(-3) 2-3/2 = -0.5 ]\n",
    "persentage of home/away goals"
   ]
  },
  {
   "cell_type": "code",
   "execution_count": 2,
   "metadata": {},
   "outputs": [],
   "source": [
    "from MongoStruct import *  "
   ]
  },
  {
   "cell_type": "markdown",
   "metadata": {},
   "source": [
    "### Load all preprocessed data, dataframes and collections"
   ]
  },
  {
   "cell_type": "code",
   "execution_count": 3,
   "metadata": {},
   "outputs": [
    {
     "name": "stdout",
     "output_type": "stream",
     "text": [
      "Database dropped\n",
      "shots Collection dropped\n",
      "matches Collection dropped\n",
      "players Collection dropped\n",
      "teams Collection dropped\n",
      "# shots documents: 245180\n",
      "# matches documents: 14148\n",
      "# players documents: 20414\n",
      "# teams documents: 675\n"
     ]
    }
   ],
   "source": [
    "client,shots_collection,matches_collection,players_collection,teams_collection,df_shots,df_matches,df_players,df_teams=get_all_data()\n"
   ]
  },
  {
   "cell_type": "code",
   "execution_count": 4,
   "metadata": {},
   "outputs": [],
   "source": [
    "# print(df_shots.columns)\n",
    "# print(df_shots.head(5))\n",
    "# print(df_matches.columns)\n",
    "# print(df_matches.head(5))\n",
    "# print(df_players.columns)\n",
    "# print(df_players.head(-5))\n",
    "# print(df_teams.columns)\n",
    "# print(df_teams.head(5))"
   ]
  },
  {
   "cell_type": "markdown",
   "metadata": {},
   "source": [
    "# 1. How many goals were attempted by head"
   ]
  },
  {
   "cell_type": "code",
   "execution_count": 5,
   "metadata": {},
   "outputs": [
    {
     "name": "stdout",
     "output_type": "stream",
     "text": [
      "{'_id': ObjectId('6747a1de239950eceae81847'), 'Player': '4a1a9578', 'Outcome': 'Goal', 'Distance': 8.0, 'Body Part': 'Head', 'match_id': 'de515487'}\n",
      "Number of documents in cursor: 3963\n"
     ]
    }
   ],
   "source": [
    "# Define the query\n",
    "myquery = {\"Outcome\": \"Goal\" ,'Body Part':'Head'}\n",
    "\n",
    "# Execute the query\n",
    "result = shots_collection.find(myquery)\n",
    "\n",
    "print(result[0])\n",
    "\n",
    "# # Print the results\n",
    "# for i in range(5):\n",
    "#     print(result[i])\n",
    "\n",
    "# print(results.alive)\n",
    "# print(type(results))\n",
    "cursor_list = list(result)\n",
    "print(f\"Number of documents in cursor: {len(cursor_list)}\")"
   ]
  },
  {
   "cell_type": "markdown",
   "metadata": {},
   "source": [
    "# 2. How many matches had attendees more than 12000"
   ]
  },
  {
   "cell_type": "code",
   "execution_count": 6,
   "metadata": {},
   "outputs": [
    {
     "name": "stdout",
     "output_type": "stream",
     "text": [
      "{'_id': ObjectId('6747a1e1239950eceaebd604'), 'id': '0006415c', 'Date': '2022-10-09', 'league': 11, 'Round': 11, 'Day': 'Sun', 'Attendance': 24671, 'home_id': '04eea015', 'away_id': '922493f3', 'score_away': 2, 'score_home': 2, 'position_home': 59, 'position_away': 41, 'home_capitan': '/en/players/75f2c59f/Roberto-Pereyra', 'away_capitan': '/en/players/2a1beb34/Marten-de-Roon', 'home_xg': 1.0, 'away_xg': 2.1, 'home_xga': 2.1, 'away_xga': 1.0, 'home_formation': '3-5-2', 'away_formation': '3-4-1-2', 'Timestamp': '2022-10-09 15:00:00'}\n",
      "Number of documents in cursor: 9166\n"
     ]
    }
   ],
   "source": [
    "# Define the query\n",
    "myquery = {\"Attendance\":{\"$gt\": 12000}}\n",
    "\n",
    "# Execute the query\n",
    "result = matches_collection.find(myquery)\n",
    "\n",
    "print(result[0])\n",
    "\n",
    "# # Print the results\n",
    "# for i in range(5):\n",
    "#     print(result[i])\n",
    "\n",
    "# print(results.alive)\n",
    "# print(type(results))\n",
    "cursor_list = list(result)\n",
    "print(f\"Number of documents in cursor: {len(cursor_list)}\")"
   ]
  },
  {
   "cell_type": "code",
   "execution_count": 7,
   "metadata": {},
   "outputs": [
    {
     "name": "stdout",
     "output_type": "stream",
     "text": [
      "\n",
      "Results for GROUP query:\n",
      "Player: 00638016, Distance > 16 Count: 0, Player Count: 1\n",
      "Player: 6b47c5db, Distance > 16 Count: 2, Player Count: 5\n",
      "Player: 989d5705, Distance > 16 Count: 3, Player Count: 8\n",
      "Player: 89b3bc5e, Distance > 16 Count: 0, Player Count: 1\n",
      "Player: bc6f5f06, Distance > 16 Count: 0, Player Count: 1\n",
      "Player: 791af558, Distance > 16 Count: 0, Player Count: 2\n",
      "Player: 17f3620a, Distance > 16 Count: 7, Player Count: 40\n",
      "Player: 6421dd73, Distance > 16 Count: 0, Player Count: 5\n",
      "Player: 7c6d6c96, Distance > 16 Count: 0, Player Count: 1\n",
      "Player: 7ec7738e, Distance > 16 Count: 1, Player Count: 5\n"
     ]
    }
   ],
   "source": [
    "pipeline = [\n",
    "    {\n",
    "        '$match': {\n",
    "            'Outcome': 'Goal'  # Filter only for documents where Outcome is 'Goal'\n",
    "        }\n",
    "    },\n",
    "    {\n",
    "        '$group': {\n",
    "            '_id': {\n",
    "                'Player': '$Player',  # Group by Player\n",
    "                'Outcome': '$Outcome'  # Include Outcome in the grouping (always 'Goal' )\n",
    "            },\n",
    "            'distance_gt_16': {\n",
    "                '$sum': {\n",
    "                    '$cond': [{'$gt': ['$Distance', 16]}, 1, 0]  # Count distances > 16\n",
    "                }\n",
    "            },\n",
    "            'player_count': {'$sum': 1}  # Count number of players in each group\n",
    "        }\n",
    "    }\n",
    "]\n",
    "\n",
    "print(f\"\\nResults for GROUP query:\")\n",
    "result = list(shots_collection.aggregate(pipeline))\n",
    "result=result[:10]\n",
    "for doc in result:\n",
    "    print(f\"Player: {doc['_id']['Player']}, Distance > 16 Count: {doc['distance_gt_16']}, Player Count: {doc['player_count']}\")\n",
    "\n"
   ]
  }
 ],
 "metadata": {
  "kernelspec": {
   "display_name": "venv",
   "language": "python",
   "name": "python3"
  },
  "language_info": {
   "codemirror_mode": {
    "name": "ipython",
    "version": 3
   },
   "file_extension": ".py",
   "mimetype": "text/x-python",
   "name": "python",
   "nbconvert_exporter": "python",
   "pygments_lexer": "ipython3",
   "version": "3.10.11"
  }
 },
 "nbformat": 4,
 "nbformat_minor": 2
}
