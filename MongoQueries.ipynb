{
 "cells": [
  {
   "cell_type": "markdown",
   "metadata": {},
   "source": [
    "\n",
    "1. How many goals were attempted by head\n",
    "2. How many matches had attendees more than 12000\n",
    "\n",
    "1. shots list where goal was scored outside 16m box\n",
    "2. \n",
    "calc goals for each team, for home and away correspondingly\n",
    "which teams were most advantaged when playing at home\n",
    "average difference of goals per team [ex. 3-1(2) 4-7(-3) 2-3/2 = -0.5 ]\n",
    "persentage of home/away goals"
   ]
  },
  {
   "cell_type": "markdown",
   "metadata": {},
   "source": [
    "# 1. How many goals were attempted by head"
   ]
  },
  {
   "cell_type": "code",
   "execution_count": 1,
   "metadata": {},
   "outputs": [],
   "source": [
    "from MongoStruct import *  "
   ]
  },
  {
   "cell_type": "code",
   "execution_count": 2,
   "metadata": {},
   "outputs": [
    {
     "name": "stdout",
     "output_type": "stream",
     "text": [
      "Database dropped\n",
      "Collection dropped\n",
      "# shots documents: 245180\n",
      "# matches documents: 14148\n"
     ]
    }
   ],
   "source": [
    "client,df_shots,df_matches,shots_collection,matches_collection=get_collections()"
   ]
  },
  {
   "cell_type": "code",
   "execution_count": null,
   "metadata": {},
   "outputs": [
    {
     "data": {
      "text/html": [
       "<div>\n",
       "<style scoped>\n",
       "    .dataframe tbody tr th:only-of-type {\n",
       "        vertical-align: middle;\n",
       "    }\n",
       "\n",
       "    .dataframe tbody tr th {\n",
       "        vertical-align: top;\n",
       "    }\n",
       "\n",
       "    .dataframe thead th {\n",
       "        text-align: right;\n",
       "    }\n",
       "</style>\n",
       "<table border=\"1\" class=\"dataframe\">\n",
       "  <thead>\n",
       "    <tr style=\"text-align: right;\">\n",
       "      <th></th>\n",
       "      <th>Minute</th>\n",
       "      <th>Player</th>\n",
       "      <th>Squad</th>\n",
       "      <th>Outcome</th>\n",
       "      <th>Distance</th>\n",
       "      <th>Body Part</th>\n",
       "      <th>match_id</th>\n",
       "    </tr>\n",
       "  </thead>\n",
       "  <tbody>\n",
       "    <tr>\n",
       "      <th>0</th>\n",
       "      <td>3</td>\n",
       "      <td>4a1a9578</td>\n",
       "      <td>822bd0ba</td>\n",
       "      <td>Goal</td>\n",
       "      <td>8.0</td>\n",
       "      <td>Head</td>\n",
       "      <td>de515487</td>\n",
       "    </tr>\n",
       "    <tr>\n",
       "      <th>1</th>\n",
       "      <td>6</td>\n",
       "      <td>b9e1436c</td>\n",
       "      <td>822bd0ba</td>\n",
       "      <td>Goal</td>\n",
       "      <td>22.0</td>\n",
       "      <td>Left Foot</td>\n",
       "      <td>de515487</td>\n",
       "    </tr>\n",
       "    <tr>\n",
       "      <th>2</th>\n",
       "      <td>15</td>\n",
       "      <td>01ce9e70</td>\n",
       "      <td>4ba7cbea</td>\n",
       "      <td>Saved</td>\n",
       "      <td>8.0</td>\n",
       "      <td>Head</td>\n",
       "      <td>de515487</td>\n",
       "    </tr>\n",
       "    <tr>\n",
       "      <th>3</th>\n",
       "      <td>16</td>\n",
       "      <td>e342ad68</td>\n",
       "      <td>822bd0ba</td>\n",
       "      <td>Off Target</td>\n",
       "      <td>2.0</td>\n",
       "      <td>Left Foot</td>\n",
       "      <td>de515487</td>\n",
       "    </tr>\n",
       "    <tr>\n",
       "      <th>4</th>\n",
       "      <td>17</td>\n",
       "      <td>e4238fb1</td>\n",
       "      <td>4ba7cbea</td>\n",
       "      <td>Saved</td>\n",
       "      <td>30.0</td>\n",
       "      <td>Right Foot</td>\n",
       "      <td>de515487</td>\n",
       "    </tr>\n",
       "  </tbody>\n",
       "</table>\n",
       "</div>"
      ],
      "text/plain": [
       "   Minute    Player     Squad     Outcome  Distance   Body Part  match_id\n",
       "0       3  4a1a9578  822bd0ba        Goal       8.0        Head  de515487\n",
       "1       6  b9e1436c  822bd0ba        Goal      22.0   Left Foot  de515487\n",
       "2      15  01ce9e70  4ba7cbea       Saved       8.0        Head  de515487\n",
       "3      16  e342ad68  822bd0ba  Off Target       2.0   Left Foot  de515487\n",
       "4      17  e4238fb1  4ba7cbea       Saved      30.0  Right Foot  de515487"
      ]
     },
     "execution_count": 5,
     "metadata": {},
     "output_type": "execute_result"
    }
   ],
   "source": [
    "print(df_shots.head(5))"
   ]
  },
  {
   "cell_type": "code",
   "execution_count": null,
   "metadata": {},
   "outputs": [
    {
     "name": "stdout",
     "output_type": "stream",
     "text": [
      "{'_id': ObjectId('67465439cdf25933169ae266'), 'Minute': 3, 'Player': '4a1a9578', 'Squad': '822bd0ba', 'Outcome': 'Goal', 'Distance': 8.0, 'Body Part': 'Head', 'match_id': 'de515487'}\n",
      "{'_id': ObjectId('67465439cdf25933169ae266'), 'Minute': 3, 'Player': '4a1a9578', 'Squad': '822bd0ba', 'Outcome': 'Goal', 'Distance': 8.0, 'Body Part': 'Head', 'match_id': 'de515487'}\n",
      "{'_id': ObjectId('67465439cdf25933169ae272'), 'Minute': 45, 'Player': 'e06683ca', 'Squad': '822bd0ba', 'Outcome': 'Goal', 'Distance': 12.0, 'Body Part': 'Head', 'match_id': 'de515487'}\n",
      "{'_id': ObjectId('67465439cdf25933169ae27c'), 'Minute': 85, 'Player': '4a1a9578', 'Squad': '822bd0ba', 'Outcome': 'Goal', 'Distance': 5.0, 'Body Part': 'Head', 'match_id': 'de515487'}\n",
      "{'_id': ObjectId('67465439cdf25933169ae288'), 'Minute': 39, 'Player': '527f063d', 'Squad': '19538871', 'Outcome': 'Goal', 'Distance': 9.0, 'Body Part': 'Head', 'match_id': '37a9f2fd'}\n",
      "{'_id': ObjectId('67465439cdf25933169ae2ad'), 'Minute': 58, 'Player': '45963054', 'Squad': 'a2d435b3', 'Outcome': 'Goal', 'Distance': 6.0, 'Body Part': 'Head', 'match_id': '3e9712d7'}\n"
     ]
    }
   ],
   "source": [
    "# Define the query\n",
    "myquery = {\"Outcome\": \"Goal\" ,'Body Part':'Head'}\n",
    "\n",
    "# Execute the query\n",
    "results = shots_collection.find(myquery)\n",
    "\n",
    "print(results[0])\n",
    "\n",
    "# # Print the results\n",
    "for i in range(5):\n",
    "    print(results[i])\n",
    "\n",
    "# print(results.alive)\n",
    "# print(type(results))\n",
    "cursor_list = list(results)\n",
    "print(f\"Number of documents in cursor: {len(cursor_list)}\")"
   ]
  },
  {
   "cell_type": "markdown",
   "metadata": {},
   "source": [
    "# 2. How many matches had attendees more than 12000"
   ]
  },
  {
   "cell_type": "code",
   "execution_count": 7,
   "metadata": {},
   "outputs": [
    {
     "name": "stdout",
     "output_type": "stream",
     "text": [
      "{'_id': ObjectId('6746543ccdf25933169ea023'), 'Unnamed: 1': 18247, 'id': '0006415c', 'Date': '2022-10-09', 'league': 11, 'Round': 11, 'Day': 'Sun', 'Attendance': 24671, 'Referee': 'Daniele Doveri', 'Notes': nan, 'played': True, 'home_id': '04eea015', 'away_id': '922493f3', 'score_away': 2, 'score_home': 2, 'position_home': 59, 'position_away': 41, 'home_capitan': '/en/players/75f2c59f/Roberto-Pereyra', 'away_capitan': '/en/players/2a1beb34/Marten-de-Roon', 'away_xg': 2.1, 'home_xga': 2.1, 'away_xga': 1.0, 'home_formation': '3-5-2', 'away_formation': '3-4-1-2', 'Timestamp': '2022-10-09 15:00:00'}\n",
      "{'_id': ObjectId('6746543ccdf25933169ea023'), 'Unnamed: 1': 18247, 'id': '0006415c', 'Date': '2022-10-09', 'league': 11, 'Round': 11, 'Day': 'Sun', 'Attendance': 24671, 'Referee': 'Daniele Doveri', 'Notes': nan, 'played': True, 'home_id': '04eea015', 'away_id': '922493f3', 'score_away': 2, 'score_home': 2, 'position_home': 59, 'position_away': 41, 'home_capitan': '/en/players/75f2c59f/Roberto-Pereyra', 'away_capitan': '/en/players/2a1beb34/Marten-de-Roon', 'away_xg': 2.1, 'home_xga': 2.1, 'away_xga': 1.0, 'home_formation': '3-5-2', 'away_formation': '3-4-1-2', 'Timestamp': '2022-10-09 15:00:00'}\n",
      "{'_id': ObjectId('6746543ccdf25933169ea024'), 'Unnamed: 1': 13252, 'id': '000d26f6', 'Date': '2018-10-25', 'league': 19, 'Round': 19, 'Day': 'Thu', 'Attendance': 38126, 'Referee': 'Petr Ardeleánu', 'Notes': nan, 'played': True, 'home_id': 'acbb6a5b', 'away_id': 'b81aa4fa', 'score_away': 0, 'score_home': 2, 'position_home': 51, 'position_away': 49, 'home_capitan': '/en/players/20030c06/Willi-Orban', 'away_capitan': nan, 'away_xg': nan, 'home_xga': 0.3, 'away_xga': nan, 'home_formation': '4-3-3', 'away_formation': nan, 'Timestamp': '2018-10-25 18:55:00'}\n",
      "{'_id': ObjectId('6746543ccdf25933169ea025'), 'Unnamed: 1': 19788, 'id': '0012462a', 'Date': '2023-12-03', 'league': 12, 'Round': 12, 'Day': 'Sun', 'Attendance': 34568, 'Referee': 'José Sánchez', 'Notes': nan, 'played': True, 'home_id': '206d90db', 'away_id': 'db3b9613', 'score_away': 0, 'score_home': 1, 'position_home': 58, 'position_away': 42, 'home_capitan': '/en/players/2bef2bca/Ronald-Araujo', 'away_capitan': '/en/players/55126f3b/Koke', 'away_xg': 0.6, 'home_xga': 0.6, 'away_xga': 2.6, 'home_formation': '4-3-3', 'away_formation': '5-3-2', 'Timestamp': '2023-12-03 21:00:00'}\n",
      "{'_id': ObjectId('6746543ccdf25933169ea026'), 'Unnamed: 1': 5175, 'id': '001326cc', 'Date': '2023-11-04', 'league': 13, 'Round': 13, 'Day': 'Sat', 'Attendance': 16599, 'Referee': 'Bastien Dechepy', 'Notes': nan, 'played': True, 'home_id': 'd2c87802', 'away_id': 'fd4e0f7d', 'score_away': 0, 'score_home': 0, 'position_home': 43, 'position_away': 57, 'home_capitan': '/en/players/31626657/Laurent-Abergel', 'away_capitan': '/en/players/60d90c55/Brice-Samba', 'away_xg': 0.6, 'home_xga': 0.6, 'away_xga': 0.5, 'home_formation': '3-4-3', 'away_formation': '3-4-3', 'Timestamp': '2023-11-04 17:00:00'}\n",
      "{'_id': ObjectId('6746543ccdf25933169ea027'), 'Unnamed: 1': 19885, 'id': '001383d7', 'Date': '2023-10-06', 'league': 12, 'Round': 12, 'Day': 'Fri', 'Attendance': 43677, 'Referee': 'Víctor García', 'Notes': nan, 'played': True, 'home_id': '2b390eca', 'away_id': '78ecf4bb', 'score_away': 0, 'score_home': 3, 'position_home': 59, 'position_away': 41, 'home_capitan': '/en/players/9f323c71/Oscar-de-Marcos', 'away_capitan': '/en/players/db8f0eba/Adri-Embarba', 'away_xg': 0.1, 'home_xga': 0.1, 'away_xga': 1.9, 'home_formation': '4-2-3-1', 'away_formation': '4-4-2', 'Timestamp': '2023-10-06 21:00:00'}\n",
      "Number of documents in cursor: 9166\n"
     ]
    }
   ],
   "source": [
    "# Define the query\n",
    "myquery = {\"Attendance\":{\"$gt\": 12000}}\n",
    "\n",
    "# Execute the query\n",
    "results = matches_collection.find(myquery)\n",
    "\n",
    "print(results[0])\n",
    "\n",
    "# # Print the results\n",
    "for i in range(5):\n",
    "    print(results[i])\n",
    "\n",
    "# print(results.alive)\n",
    "# print(type(results))\n",
    "cursor_list = list(results)\n",
    "print(f\"Number of documents in cursor: {len(cursor_list)}\")"
   ]
  }
 ],
 "metadata": {
  "kernelspec": {
   "display_name": "venv",
   "language": "python",
   "name": "python3"
  },
  "language_info": {
   "codemirror_mode": {
    "name": "ipython",
    "version": 3
   },
   "file_extension": ".py",
   "mimetype": "text/x-python",
   "name": "python",
   "nbconvert_exporter": "python",
   "pygments_lexer": "ipython3",
   "version": "3.10.11"
  }
 },
 "nbformat": 4,
 "nbformat_minor": 2
}
