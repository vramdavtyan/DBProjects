{
 "cells": [
  {
   "cell_type": "markdown",
   "metadata": {},
   "source": [
    "\n",
    "#### 1.1 How many goals were attempted by head\n",
    "#### 1.2 How many matches had attendees more than 12000\n",
    "#### 2.1 Shots list where goal was scored outside 16m box sorted by descending order\n",
    "#### 2.2 Rank teams based on average attendance at home games "
   ]
  },
  {
   "cell_type": "code",
   "execution_count": null,
   "metadata": {},
   "outputs": [
    {
     "name": "stdout",
     "output_type": "stream",
     "text": [
      "----Loading MySql----\n"
     ]
    }
   ],
   "source": [
    "from MySqlStruct import *\n",
    "\n",
    "@measure_execution_time\n",
    "def MySqlExecTime():\n",
    "    return MySql_connect()\n",
    "\n",
    "print('----Loading MySql----')\n",
    "result, execution_time = MySqlExecTime()  # Get both the result and execution time\n",
    "\n",
    "# Unpack the values from the result\n",
    "cursor,connection,df_shots,df_matches,df_players,df_teams = result"
   ]
  },
  {
   "cell_type": "code",
   "execution_count": null,
   "metadata": {},
   "outputs": [],
   "source": [
    "# print(df_shots.columns)\n",
    "# print(df_shots.head(5))\n",
    "# print(df_matches.columns)\n",
    "# print(df_matches.head(5))\n",
    "# print(df_players.columns)\n",
    "# print(df_players.head(5))\n",
    "# print(df_teams.columns)\n",
    "# print(df_teams.head(5))\n"
   ]
  },
  {
   "cell_type": "markdown",
   "metadata": {},
   "source": [
    "# 1.1 How many goals were attempted by head"
   ]
  },
  {
   "cell_type": "code",
   "execution_count": null,
   "metadata": {},
   "outputs": [
    {
     "name": "stdout",
     "output_type": "stream",
     "text": [
      "(1, '4a1a9578', 'Goal', 8.0, 'Head', 'de515487')\n",
      "Number of rows in result: 3963\n",
      "Query 1.1\n",
      "Execution time: 0.12903761863708496 seconds\n"
     ]
    }
   ],
   "source": [
    "@measure_execution_time\n",
    "def MySQLQ1_1():\n",
    "    # Define the query\n",
    "    query = \"SELECT * FROM shots WHERE Outcome = 'Goal' AND `Body Part` = 'Head';\"\n",
    "    \n",
    "    # Execute the query\n",
    "    cursor.execute(query)\n",
    "    \n",
    "    # Fetch all the results\n",
    "    result = cursor.fetchall()\n",
    "    \n",
    "    # Print the first result\n",
    "    if result:\n",
    "        print(result[0])\n",
    "    \n",
    "    # Print the number of records\n",
    "    print(f\"Number of rows in result: {len(result)}\")\n",
    "    print('Query 1.1')\n",
    "\n",
    "# Assuming you have the db_connection already defined\n",
    "result, execution_time = MySQLQ1_1()"
   ]
  },
  {
   "cell_type": "markdown",
   "metadata": {},
   "source": [
    "# 1.2 How many matches had attendees more than 12000"
   ]
  },
  {
   "cell_type": "code",
   "execution_count": null,
   "metadata": {},
   "outputs": [
    {
     "name": "stdout",
     "output_type": "stream",
     "text": [
      "(2, '2022-10-09', 11, 11, 'Sun', 24671, '04eea015', '922493f3', 2, 2, 59, 41, '/en/players/75f2c59f/Roberto-Pereyra', '/en/players/2a1beb34/Marten-de-Roon', 1.0, 2.1, 2.1, 1.0, '3-5-2', '3-4-1-2', '2022-10-09 15:00:00')\n",
      "Number of rows in result: 9166\n",
      "Query 1.2\n",
      "Execution time: 0.06401538848876953 seconds\n"
     ]
    }
   ],
   "source": [
    "@measure_execution_time\n",
    "def MySQLQ1_2():\n",
    "    # Define the query\n",
    "    query = \"SELECT * FROM matches WHERE Attendance > 12000;\"\n",
    "\n",
    "    # Execute the query\n",
    "    cursor.execute(query)\n",
    "\n",
    "    # Fetch all the results\n",
    "    result = cursor.fetchall()\n",
    "\n",
    "    # Print the first result (if any)\n",
    "    if result:\n",
    "        print(result[0])\n",
    "\n",
    "    # Print the number of rows in the result\n",
    "    print(f\"Number of rows in result: {len(result)}\")\n",
    "\n",
    "    print('Query 1.2')\n",
    "\n",
    "# Call the function\n",
    "result, execution_time = MySQLQ1_2()\n"
   ]
  },
  {
   "cell_type": "markdown",
   "metadata": {},
   "source": [
    "#### 2.1 Total Goals Scoared and Inside VS Outside 16m box"
   ]
  },
  {
   "cell_type": "markdown",
   "metadata": {},
   "source": [
    "#### 2.2 Rank teams based on average attendance at home games"
   ]
  },
  {
   "cell_type": "code",
   "execution_count": null,
   "metadata": {},
   "outputs": [
    {
     "name": "stdout",
     "output_type": "stream",
     "text": [
      "              team_name average_attendance  matches_count\n",
      "0                Troyes         51691.4586            157\n",
      "1            Valladolid         50702.6525            141\n",
      "2  Leicester City Women         48031.5000              8\n",
      "3                 Molde         47265.5404            161\n",
      "4         Sudburgenland         46952.0690            145\n",
      "5      FC Luzern Frauen         46577.0500            160\n",
      "6            Lillestrom         44531.8039            153\n",
      "7  Internazionale Women         41408.8421             19\n",
      "8               Udinese         39081.3636             11\n",
      "9              Jaguares         38754.3158             19\n",
      "Execution time: 0.0420079231262207 seconds\n"
     ]
    }
   ],
   "source": [
    "@measure_execution_time\n",
    "def MySQLQ2_2(cursor):\n",
    "    # Query to get average attendance and count of matches by home_id\n",
    "    query = \"\"\"\n",
    "    SELECT \n",
    "        m.home_id,\n",
    "        AVG(m.Attendance) AS average_attendance,\n",
    "        COUNT(*) AS matches_count,\n",
    "        t.name AS team_name\n",
    "    FROM matches m\n",
    "    INNER JOIN teams t ON m.home_id = t.id\n",
    "    GROUP BY m.home_id\n",
    "    ORDER BY average_attendance DESC\n",
    "    \"\"\"\n",
    "    \n",
    "    cursor.execute(query)\n",
    "    results_from_matches = cursor.fetchall()  # List of tuples\n",
    "    \n",
    "    # Convert the result to a list of dictionaries for easier handling in Python\n",
    "    results_from_matches = [\n",
    "        {\n",
    "            'home_id': row[0],\n",
    "            'average_attendance': row[1],\n",
    "            'matches_count': row[2],\n",
    "            'team_name': row[3]\n",
    "        } \n",
    "        for row in results_from_matches\n",
    "    ]\n",
    "    \n",
    "    # Convert to DataFrame for easy viewing and sorting\n",
    "    df = pd.DataFrame(results_from_matches)\n",
    "    df = df[['team_name', 'average_attendance', 'matches_count']]\n",
    "    print(df.head(10))  # Display the top 10 rows\n",
    "\n",
    "    # return results_from_matches\n",
    "\n",
    "# Call the function and measure execution time\n",
    "result, execution_time = MySQLQ2_2(cursor)\n"
   ]
  },
  {
   "cell_type": "code",
   "execution_count": null,
   "metadata": {},
   "outputs": [
    {
     "ename": "DatabaseError",
     "evalue": "2014 (HY000): Commands out of sync; you can't run this command now",
     "output_type": "error",
     "traceback": [
      "\u001b[1;31m---------------------------------------------------------------------------\u001b[0m",
      "\u001b[1;31mMySQLInterfaceError\u001b[0m                       Traceback (most recent call last)",
      "File \u001b[1;32mc:\\Users\\Vram\\Desktop\\MachineLearning\\venv\\lib\\site-packages\\mysql\\connector\\connection_cext.py:706\u001b[0m, in \u001b[0;36mCMySQLConnection.cmd_query\u001b[1;34m(self, query, raw, buffered, raw_as_string)\u001b[0m\n\u001b[0;32m    705\u001b[0m         query \u001b[38;5;241m=\u001b[39m query\u001b[38;5;241m.\u001b[39mencode(\u001b[38;5;124m\"\u001b[39m\u001b[38;5;124mutf-8\u001b[39m\u001b[38;5;124m\"\u001b[39m)\n\u001b[1;32m--> 706\u001b[0m     \u001b[38;5;28;43mself\u001b[39;49m\u001b[38;5;241;43m.\u001b[39;49m\u001b[43m_cmysql\u001b[49m\u001b[38;5;241;43m.\u001b[39;49m\u001b[43mquery\u001b[49m\u001b[43m(\u001b[49m\n\u001b[0;32m    707\u001b[0m \u001b[43m        \u001b[49m\u001b[43mquery\u001b[49m\u001b[43m,\u001b[49m\n\u001b[0;32m    708\u001b[0m \u001b[43m        \u001b[49m\u001b[43mraw\u001b[49m\u001b[38;5;241;43m=\u001b[39;49m\u001b[43mraw\u001b[49m\u001b[43m,\u001b[49m\n\u001b[0;32m    709\u001b[0m \u001b[43m        \u001b[49m\u001b[43mbuffered\u001b[49m\u001b[38;5;241;43m=\u001b[39;49m\u001b[43mbuffered\u001b[49m\u001b[43m,\u001b[49m\n\u001b[0;32m    710\u001b[0m \u001b[43m        \u001b[49m\u001b[43mraw_as_string\u001b[49m\u001b[38;5;241;43m=\u001b[39;49m\u001b[43mraw_as_string\u001b[49m\u001b[43m,\u001b[49m\n\u001b[0;32m    711\u001b[0m \u001b[43m        \u001b[49m\u001b[43mquery_attrs\u001b[49m\u001b[38;5;241;43m=\u001b[39;49m\u001b[38;5;28;43mself\u001b[39;49m\u001b[38;5;241;43m.\u001b[39;49m\u001b[43mquery_attrs\u001b[49m\u001b[43m,\u001b[49m\n\u001b[0;32m    712\u001b[0m \u001b[43m    \u001b[49m\u001b[43m)\u001b[49m\n\u001b[0;32m    713\u001b[0m \u001b[38;5;28;01mexcept\u001b[39;00m MySQLInterfaceError \u001b[38;5;28;01mas\u001b[39;00m err:\n",
      "\u001b[1;31mMySQLInterfaceError\u001b[0m: Commands out of sync; you can't run this command now",
      "\nThe above exception was the direct cause of the following exception:\n",
      "\u001b[1;31mDatabaseError\u001b[0m                             Traceback (most recent call last)",
      "Cell \u001b[1;32mIn[6], line 44\u001b[0m\n\u001b[0;32m     11\u001b[0m     \u001b[38;5;28mprint\u001b[39m(results_from_shots)\n\u001b[0;32m     13\u001b[0m     \u001b[38;5;66;03m# Extract player IDs to fetch player names\u001b[39;00m\n\u001b[0;32m     14\u001b[0m     \u001b[38;5;66;03m# player_ids = [doc['player_id'] for doc in results_from_shots]\u001b[39;00m\n\u001b[0;32m     15\u001b[0m     \u001b[38;5;66;03m# player_ids_str = ','.join(map(str, player_ids))\u001b[39;00m\n\u001b[1;32m   (...)\u001b[0m\n\u001b[0;32m     42\u001b[0m \n\u001b[0;32m     43\u001b[0m \u001b[38;5;66;03m# Call the function and measure execution time\u001b[39;00m\n\u001b[1;32m---> 44\u001b[0m result, execution_time \u001b[38;5;241m=\u001b[39m \u001b[43mMySQLQ2_1\u001b[49m\u001b[43m(\u001b[49m\u001b[43m)\u001b[49m\n",
      "File \u001b[1;32mc:\\Users\\Vram\\Desktop\\MachineLearning\\DB\\DBProjects\\DFStruct.py:62\u001b[0m, in \u001b[0;36mmeasure_execution_time.<locals>.wrapper\u001b[1;34m(*args, **kwargs)\u001b[0m\n\u001b[0;32m     60\u001b[0m \u001b[38;5;28;01mdef\u001b[39;00m \u001b[38;5;21mwrapper\u001b[39m(\u001b[38;5;241m*\u001b[39margs, \u001b[38;5;241m*\u001b[39m\u001b[38;5;241m*\u001b[39mkwargs):\n\u001b[0;32m     61\u001b[0m     start_time \u001b[38;5;241m=\u001b[39m time\u001b[38;5;241m.\u001b[39mtime()  \u001b[38;5;66;03m# Record the start time\u001b[39;00m\n\u001b[1;32m---> 62\u001b[0m     result \u001b[38;5;241m=\u001b[39m func(\u001b[38;5;241m*\u001b[39margs, \u001b[38;5;241m*\u001b[39m\u001b[38;5;241m*\u001b[39mkwargs)  \u001b[38;5;66;03m# Call the original function\u001b[39;00m\n\u001b[0;32m     63\u001b[0m     end_time \u001b[38;5;241m=\u001b[39m time\u001b[38;5;241m.\u001b[39mtime()  \u001b[38;5;66;03m# Record the end time\u001b[39;00m\n\u001b[0;32m     64\u001b[0m     execution_time \u001b[38;5;241m=\u001b[39m end_time \u001b[38;5;241m-\u001b[39m start_time  \u001b[38;5;66;03m# Calculate the execution time\u001b[39;00m\n",
      "Cell \u001b[1;32mIn[6], line 8\u001b[0m, in \u001b[0;36mMySQLQ2_1\u001b[1;34m()\u001b[0m\n\u001b[0;32m      1\u001b[0m \u001b[38;5;129m@measure_execution_time\u001b[39m\n\u001b[0;32m      2\u001b[0m \u001b[38;5;28;01mdef\u001b[39;00m \u001b[38;5;21mMySQLQ2_1\u001b[39m():\n\u001b[0;32m      3\u001b[0m     \u001b[38;5;66;03m# SQL query to filter only goals (Outcome = 'Goal')\u001b[39;00m\n\u001b[0;32m      4\u001b[0m     query \u001b[38;5;241m=\u001b[39m \u001b[38;5;124m\"\"\"\u001b[39m\n\u001b[0;32m      5\u001b[0m \u001b[38;5;124m    SELECT * FROM shots WHERE Outcome = \u001b[39m\u001b[38;5;124m'\u001b[39m\u001b[38;5;124mGoal\u001b[39m\u001b[38;5;124m'\u001b[39m\u001b[38;5;124m;\u001b[39m\n\u001b[0;32m      6\u001b[0m \u001b[38;5;124m    \u001b[39m\u001b[38;5;124m\"\"\"\u001b[39m\n\u001b[1;32m----> 8\u001b[0m     \u001b[43mcursor\u001b[49m\u001b[38;5;241;43m.\u001b[39;49m\u001b[43mexecute\u001b[49m\u001b[43m(\u001b[49m\u001b[43mquery\u001b[49m\u001b[43m)\u001b[49m\n\u001b[0;32m      9\u001b[0m     results_from_shots \u001b[38;5;241m=\u001b[39m cursor\u001b[38;5;241m.\u001b[39mfetchall()\n\u001b[0;32m     11\u001b[0m     \u001b[38;5;28mprint\u001b[39m(results_from_shots)\n",
      "File \u001b[1;32mc:\\Users\\Vram\\Desktop\\MachineLearning\\venv\\lib\\site-packages\\mysql\\connector\\cursor_cext.py:357\u001b[0m, in \u001b[0;36mCMySQLCursor.execute\u001b[1;34m(self, operation, params, multi)\u001b[0m\n\u001b[0;32m    352\u001b[0m             \u001b[38;5;28;01mraise\u001b[39;00m ProgrammingError(\n\u001b[0;32m    353\u001b[0m                 \u001b[38;5;124m\"\u001b[39m\u001b[38;5;124mNot all parameters were used in the SQL statement\u001b[39m\u001b[38;5;124m\"\u001b[39m\n\u001b[0;32m    354\u001b[0m             )\n\u001b[0;32m    356\u001b[0m \u001b[38;5;28;01mtry\u001b[39;00m:\n\u001b[1;32m--> 357\u001b[0m     result \u001b[38;5;241m=\u001b[39m \u001b[38;5;28;43mself\u001b[39;49m\u001b[38;5;241;43m.\u001b[39;49m\u001b[43m_connection\u001b[49m\u001b[38;5;241;43m.\u001b[39;49m\u001b[43mcmd_query\u001b[49m\u001b[43m(\u001b[49m\n\u001b[0;32m    358\u001b[0m \u001b[43m        \u001b[49m\u001b[43mstmt\u001b[49m\u001b[43m,\u001b[49m\n\u001b[0;32m    359\u001b[0m \u001b[43m        \u001b[49m\u001b[43mraw\u001b[49m\u001b[38;5;241;43m=\u001b[39;49m\u001b[38;5;28;43mself\u001b[39;49m\u001b[38;5;241;43m.\u001b[39;49m\u001b[43m_raw\u001b[49m\u001b[43m,\u001b[49m\n\u001b[0;32m    360\u001b[0m \u001b[43m        \u001b[49m\u001b[43mbuffered\u001b[49m\u001b[38;5;241;43m=\u001b[39;49m\u001b[38;5;28;43mself\u001b[39;49m\u001b[38;5;241;43m.\u001b[39;49m\u001b[43m_buffered\u001b[49m\u001b[43m,\u001b[49m\n\u001b[0;32m    361\u001b[0m \u001b[43m        \u001b[49m\u001b[43mraw_as_string\u001b[49m\u001b[38;5;241;43m=\u001b[39;49m\u001b[38;5;28;43mself\u001b[39;49m\u001b[38;5;241;43m.\u001b[39;49m\u001b[43m_raw_as_string\u001b[49m\u001b[43m,\u001b[49m\n\u001b[0;32m    362\u001b[0m \u001b[43m    \u001b[49m\u001b[43m)\u001b[49m\n\u001b[0;32m    363\u001b[0m \u001b[38;5;28;01mexcept\u001b[39;00m MySQLInterfaceError \u001b[38;5;28;01mas\u001b[39;00m err:\n\u001b[0;32m    364\u001b[0m     \u001b[38;5;28;01mraise\u001b[39;00m get_mysql_exception(\n\u001b[0;32m    365\u001b[0m         msg\u001b[38;5;241m=\u001b[39merr\u001b[38;5;241m.\u001b[39mmsg, errno\u001b[38;5;241m=\u001b[39merr\u001b[38;5;241m.\u001b[39merrno, sqlstate\u001b[38;5;241m=\u001b[39merr\u001b[38;5;241m.\u001b[39msqlstate\n\u001b[0;32m    366\u001b[0m     ) \u001b[38;5;28;01mfrom\u001b[39;00m \u001b[38;5;21;01merr\u001b[39;00m\n",
      "File \u001b[1;32mc:\\Users\\Vram\\Desktop\\MachineLearning\\venv\\lib\\site-packages\\mysql\\connector\\opentelemetry\\context_propagation.py:97\u001b[0m, in \u001b[0;36mwith_context_propagation.<locals>.wrapper\u001b[1;34m(cnx, *args, **kwargs)\u001b[0m\n\u001b[0;32m     95\u001b[0m \u001b[38;5;66;03m# pylint: disable=possibly-used-before-assignment\u001b[39;00m\n\u001b[0;32m     96\u001b[0m \u001b[38;5;28;01mif\u001b[39;00m \u001b[38;5;129;01mnot\u001b[39;00m OTEL_ENABLED \u001b[38;5;129;01mor\u001b[39;00m \u001b[38;5;129;01mnot\u001b[39;00m cnx\u001b[38;5;241m.\u001b[39motel_context_propagation:\n\u001b[1;32m---> 97\u001b[0m     \u001b[38;5;28;01mreturn\u001b[39;00m method(cnx, \u001b[38;5;241m*\u001b[39margs, \u001b[38;5;241m*\u001b[39m\u001b[38;5;241m*\u001b[39mkwargs)\n\u001b[0;32m     99\u001b[0m current_span \u001b[38;5;241m=\u001b[39m trace\u001b[38;5;241m.\u001b[39mget_current_span()\n\u001b[0;32m    100\u001b[0m tp_header \u001b[38;5;241m=\u001b[39m \u001b[38;5;28;01mNone\u001b[39;00m\n",
      "File \u001b[1;32mc:\\Users\\Vram\\Desktop\\MachineLearning\\venv\\lib\\site-packages\\mysql\\connector\\connection_cext.py:714\u001b[0m, in \u001b[0;36mCMySQLConnection.cmd_query\u001b[1;34m(self, query, raw, buffered, raw_as_string)\u001b[0m\n\u001b[0;32m    706\u001b[0m     \u001b[38;5;28mself\u001b[39m\u001b[38;5;241m.\u001b[39m_cmysql\u001b[38;5;241m.\u001b[39mquery(\n\u001b[0;32m    707\u001b[0m         query,\n\u001b[0;32m    708\u001b[0m         raw\u001b[38;5;241m=\u001b[39mraw,\n\u001b[1;32m   (...)\u001b[0m\n\u001b[0;32m    711\u001b[0m         query_attrs\u001b[38;5;241m=\u001b[39m\u001b[38;5;28mself\u001b[39m\u001b[38;5;241m.\u001b[39mquery_attrs,\n\u001b[0;32m    712\u001b[0m     )\n\u001b[0;32m    713\u001b[0m \u001b[38;5;28;01mexcept\u001b[39;00m MySQLInterfaceError \u001b[38;5;28;01mas\u001b[39;00m err:\n\u001b[1;32m--> 714\u001b[0m     \u001b[38;5;28;01mraise\u001b[39;00m get_mysql_exception(\n\u001b[0;32m    715\u001b[0m         err\u001b[38;5;241m.\u001b[39merrno, msg\u001b[38;5;241m=\u001b[39merr\u001b[38;5;241m.\u001b[39mmsg, sqlstate\u001b[38;5;241m=\u001b[39merr\u001b[38;5;241m.\u001b[39msqlstate\n\u001b[0;32m    716\u001b[0m     ) \u001b[38;5;28;01mfrom\u001b[39;00m \u001b[38;5;21;01merr\u001b[39;00m\n\u001b[0;32m    717\u001b[0m \u001b[38;5;28;01mexcept\u001b[39;00m \u001b[38;5;167;01mAttributeError\u001b[39;00m \u001b[38;5;28;01mas\u001b[39;00m err:\n\u001b[0;32m    718\u001b[0m     addr \u001b[38;5;241m=\u001b[39m (\n\u001b[0;32m    719\u001b[0m         \u001b[38;5;28mself\u001b[39m\u001b[38;5;241m.\u001b[39m_unix_socket \u001b[38;5;28;01mif\u001b[39;00m \u001b[38;5;28mself\u001b[39m\u001b[38;5;241m.\u001b[39m_unix_socket \u001b[38;5;28;01melse\u001b[39;00m \u001b[38;5;124mf\u001b[39m\u001b[38;5;124m\"\u001b[39m\u001b[38;5;132;01m{\u001b[39;00m\u001b[38;5;28mself\u001b[39m\u001b[38;5;241m.\u001b[39m_host\u001b[38;5;132;01m}\u001b[39;00m\u001b[38;5;124m:\u001b[39m\u001b[38;5;132;01m{\u001b[39;00m\u001b[38;5;28mself\u001b[39m\u001b[38;5;241m.\u001b[39m_port\u001b[38;5;132;01m}\u001b[39;00m\u001b[38;5;124m\"\u001b[39m\n\u001b[0;32m    720\u001b[0m     )\n",
      "\u001b[1;31mDatabaseError\u001b[0m: 2014 (HY000): Commands out of sync; you can't run this command now"
     ]
    }
   ],
   "source": [
    "@measure_execution_time\n",
    "def MySQLQ2_1():\n",
    "    # SQL query to filter only goals (Outcome = 'Goal')\n",
    "    query = \"\"\"\n",
    "    SELECT * FROM shots WHERE Outcome = 'Goal';\n",
    "    \"\"\"\n",
    "    \n",
    "    cursor.execute(query)\n",
    "    results_from_shots = cursor.fetchall()\n",
    "\n",
    "    print(results_from_shots)\n",
    "\n",
    "    # Extract player IDs to fetch player names\n",
    "    # player_ids = [doc['player_id'] for doc in results_from_shots]\n",
    "    # player_ids_str = ','.join(map(str, player_ids))\n",
    "\n",
    "    # # Query to get player names by IDs\n",
    "    # player_info_query = f\"\"\"\n",
    "    # SELECT id, name FROM players\n",
    "    # WHERE id IN ({player_ids_str});\n",
    "    # \"\"\"\n",
    "    # cursor.execute(player_info_query)\n",
    "    # player_info = cursor.fetchall()\n",
    "\n",
    "    # # Map player IDs to names\n",
    "    # player_name_map = {player['id']: player['name'] for player in player_info}\n",
    "\n",
    "    # # Merge player names into the results\n",
    "    # for doc in results_from_shots:\n",
    "    #     player_id = doc['player_id']\n",
    "    #     doc['name'] = player_name_map.get(player_id, 'Unknown')\n",
    "\n",
    "    # # Convert results to DataFrame\n",
    "    # df = pd.DataFrame(results_from_shots)\n",
    "    # df = df[['name', 'distance', 'outcome']]\n",
    "\n",
    "    # # Print the final results\n",
    "    # print(df.head(10))\n",
    "\n",
    "    # return df\n",
    "\n",
    "\n",
    "# Call the function and measure execution time\n",
    "result, execution_time = MySQLQ2_1()\n",
    "\n"
   ]
  }
 ],
 "metadata": {
  "kernelspec": {
   "display_name": "venv",
   "language": "python",
   "name": "python3"
  },
  "language_info": {
   "codemirror_mode": {
    "name": "ipython",
    "version": 3
   },
   "file_extension": ".py",
   "mimetype": "text/x-python",
   "name": "python",
   "nbconvert_exporter": "python",
   "pygments_lexer": "ipython3",
   "version": "3.10.11"
  }
 },
 "nbformat": 4,
 "nbformat_minor": 2
}
