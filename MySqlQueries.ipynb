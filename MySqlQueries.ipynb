{
 "cells": [
  {
   "cell_type": "markdown",
   "metadata": {},
   "source": [
    "\n",
    "#### 1.1 How many goals were attempted by head\n",
    "#### 1.2 How many matches had attendees more than 12000\n",
    "#### 2.1 Shots list where goal was scored outside 16m box sorted by descending order\n",
    "#### 2.2 Rank teams based on average attendance at home games "
   ]
  },
  {
   "cell_type": "code",
   "execution_count": 1,
   "metadata": {},
   "outputs": [
    {
     "name": "stdout",
     "output_type": "stream",
     "text": [
      "----Loading MySql----\n",
      "------- Index(['Player', 'Outcome', 'Distance', 'Body Part', 'match_id'], dtype='object')\n",
      "Inserted 245180 rows into shots.\n",
      "------- Index(['Date', 'league', 'Round', 'Day', 'Attendance', 'home_id', 'away_id',\n",
      "       'score_away', 'score_home', 'position_home', 'position_away',\n",
      "       'home_capitan', 'away_capitan', 'home_xg', 'away_xg', 'home_xga',\n",
      "       'away_xga', 'home_formation', 'away_formation', 'Timestamp'],\n",
      "      dtype='object')\n",
      "Inserted 14148 rows into matches.\n",
      "------- Index(['id', 'name', 'Pos', 'Matches', 'club_id', 'MP', 'year'], dtype='object')\n",
      "Inserted 20414 rows into all_players.\n",
      "------- Index(['id', 'name', 'league', 'W', 'D', 'L', 'MP', 'GF', 'GA', 'GD', 'Pts',\n",
      "       'xG', 'xGA', 'xGD', 'xGD/90'],\n",
      "      dtype='object')\n",
      "Inserted 675 rows into teams.\n",
      "\n",
      "Data inserted successfully for all files!\n",
      "Execution time: 9.20624828338623 seconds\n"
     ]
    }
   ],
   "source": [
    "from MySqlStruct import *\n",
    "\n",
    "@measure_execution_time\n",
    "def MySqlExecTime():\n",
    "    return MySql_connect()\n",
    "\n",
    "print('----Loading MySql----')\n",
    "result, execution_time = MySqlExecTime()  # Get both the result and execution time\n",
    "\n",
    "# Unpack the values from the result\n",
    "cursor,connection,df_shots,df_matches,df_players,df_teams = result"
   ]
  },
  {
   "cell_type": "code",
   "execution_count": 2,
   "metadata": {},
   "outputs": [],
   "source": [
    "# print(df_shots.columns)\n",
    "# print(df_shots.head(5))\n",
    "# print(df_matches.columns)\n",
    "# print(df_matches.head(5))\n",
    "# print(df_players.columns)\n",
    "# print(df_players.head(5))\n",
    "# print(df_teams.columns)\n",
    "# print(df_teams.head(5))\n"
   ]
  },
  {
   "cell_type": "markdown",
   "metadata": {},
   "source": [
    "# 1.1 How many goals were attempted by head"
   ]
  },
  {
   "cell_type": "code",
   "execution_count": 3,
   "metadata": {},
   "outputs": [
    {
     "name": "stdout",
     "output_type": "stream",
     "text": [
      "(1, '4a1a9578', 'Goal', 8.0, 'Head', 'de515487')\n",
      "Number of rows in result: 3963\n",
      "Query 1.1\n",
      "Execution time: 0.12302327156066895 seconds\n"
     ]
    }
   ],
   "source": [
    "@measure_execution_time\n",
    "def MySQLQ1_1():\n",
    "    # Define the query\n",
    "    query = \"SELECT * FROM shots WHERE Outcome = 'Goal' AND `Body Part` = 'Head';\"\n",
    "    \n",
    "    # Execute the query\n",
    "    cursor.execute(query)\n",
    "    \n",
    "    # Fetch all the results\n",
    "    result = cursor.fetchall()\n",
    "    \n",
    "    # Print the first result\n",
    "    if result:\n",
    "        print(result[0])\n",
    "    \n",
    "    # Print the number of records\n",
    "    print(f\"Number of rows in result: {len(result)}\")\n",
    "    print('Query 1.1')\n",
    "\n",
    "# Assuming you have the db_connection already defined\n",
    "result, execution_time = MySQLQ1_1()"
   ]
  },
  {
   "cell_type": "markdown",
   "metadata": {},
   "source": [
    "# 1.2 How many matches had attendees more than 12000"
   ]
  },
  {
   "cell_type": "code",
   "execution_count": 4,
   "metadata": {},
   "outputs": [
    {
     "name": "stdout",
     "output_type": "stream",
     "text": [
      "(2, '2022-10-09', 11, 11, 'Sun', 24671, '04eea015', '922493f3', 2, 2, 59, 41, '/en/players/75f2c59f/Roberto-Pereyra', '/en/players/2a1beb34/Marten-de-Roon', 1.0, 2.1, 2.1, 1.0, '3-5-2', '3-4-1-2', '2022-10-09 15:00:00')\n",
      "Number of rows in result: 9166\n",
      "Query 1.2\n",
      "Execution time: 0.06301236152648926 seconds\n"
     ]
    }
   ],
   "source": [
    "@measure_execution_time\n",
    "def MySQLQ1_2():\n",
    "    # Define the query\n",
    "    query = \"SELECT * FROM matches WHERE Attendance > 12000;\"\n",
    "\n",
    "    # Execute the query\n",
    "    cursor.execute(query)\n",
    "\n",
    "    # Fetch all the results\n",
    "    result = cursor.fetchall()\n",
    "\n",
    "    # Print the first result (if any)\n",
    "    if result:\n",
    "        print(result[0])\n",
    "\n",
    "    # Print the number of rows in the result\n",
    "    print(f\"Number of rows in result: {len(result)}\")\n",
    "\n",
    "    print('Query 1.2')\n",
    "\n",
    "# Call the function\n",
    "result, execution_time = MySQLQ1_2()\n"
   ]
  },
  {
   "cell_type": "markdown",
   "metadata": {},
   "source": [
    "#### 2.1 Total Goals Scoared and Inside VS Outside 16m box"
   ]
  },
  {
   "cell_type": "markdown",
   "metadata": {},
   "source": [
    "#### 2.2 Rank teams based on average attendance at home games"
   ]
  },
  {
   "cell_type": "code",
   "execution_count": 5,
   "metadata": {},
   "outputs": [
    {
     "name": "stdout",
     "output_type": "stream",
     "text": [
      "           team_name average_attendance  matches_count\n",
      "0  Manchester United         56407.2273            176\n",
      "1           Dortmund         56036.0216            139\n",
      "2            Benfica         54471.1429             14\n",
      "3       Hamburger SV         52331.0000              3\n",
      "4          Barcelona         51691.4586            157\n",
      "5      Bayern Munich         50702.6525            141\n",
      "6        Real Madrid         47265.5404            161\n",
      "7    West Ham United         46952.0690            145\n",
      "8            Arsenal         46577.0500            160\n",
      "9     Internazionale         46508.7736            159\n",
      "Execution time: 0.035003662109375 seconds\n"
     ]
    }
   ],
   "source": [
    "@measure_execution_time\n",
    "def MySQLQ2_2(cursor):\n",
    "    # Query to get average attendance and count of matches by home_id\n",
    "    query = \"\"\"\n",
    "    SELECT \n",
    "        m.home_id,\n",
    "        AVG(m.Attendance) AS average_attendance,\n",
    "        COUNT(*) AS matches_count,\n",
    "        t.name AS team_name\n",
    "    FROM matches m\n",
    "    INNER JOIN teams t ON m.home_id = t.id\n",
    "    GROUP BY m.home_id, t.name\n",
    "    ORDER BY average_attendance DESC\n",
    "    \"\"\"\n",
    "    \n",
    "    cursor.execute(query)\n",
    "    results_from_matches = cursor.fetchall()  # List of tuples\n",
    "    \n",
    "    # Convert the result to a list of dictionaries for easier handling in Python\n",
    "    results_from_matches = [\n",
    "        {\n",
    "            'home_id': row[0],\n",
    "            'average_attendance': row[1],\n",
    "            'matches_count': row[2],\n",
    "            'team_name': row[3]\n",
    "        } \n",
    "        for row in results_from_matches\n",
    "    ]\n",
    "    \n",
    "    # Convert to DataFrame for easy viewing and sorting\n",
    "    df = pd.DataFrame(results_from_matches)\n",
    "    df = df[['team_name', 'average_attendance', 'matches_count']]\n",
    "    print(df.head(10))  # Display the top 10 rows\n",
    "\n",
    "    # return results_from_matches\n",
    "\n",
    "# Call the function and measure execution time\n",
    "result, execution_time = MySQLQ2_2(cursor)\n"
   ]
  },
  {
   "cell_type": "code",
   "execution_count": null,
   "metadata": {},
   "outputs": [
    {
     "name": "stdout",
     "output_type": "stream",
     "text": [
      "                 player_name goals_gt_16 goals_lt_16  total_goals\n",
      "0              Kylian-Mbappe         162         720          882\n",
      "1         Robert-Lewandowski          90         786          876\n",
      "2                 Harry-Kane         126         594          720\n",
      "3  Pierre-Emerick-Aubameyang          56         592          648\n",
      "4              Mohamed-Salah          84         540          624\n",
      "5              Ciro-Immobile          60         564          624\n",
      "6          Wissam-Ben-Yedder          18         534          552\n",
      "7           Lautaro-Martinez          90         444          534\n",
      "8               Lionel-Messi         185         345          530\n",
      "9          Cristiano-Ronaldo          72         456          528\n",
      "Execution time: 0.2940843105316162 seconds\n"
     ]
    }
   ],
   "source": [
    "@measure_execution_time\n",
    "def MySQLQ2_1():\n",
    "    # SQL query to filter only goals (Outcome = 'Goal') and calculate total goals per player\n",
    "    query = \"\"\"\n",
    "    SELECT \n",
    "        SUM(CASE WHEN s.distance > 16 THEN 1 ELSE 0 END) AS goals_gt_16,  -- Sum the goals where distance > 16\n",
    "        SUM(CASE WHEN s.distance <= 16 THEN 1 ELSE 0 END) AS goals_lt_16,  -- Sum the goals where distance <= 16\n",
    "        COUNT(*) AS total_goals  -- Total goals (count all records where Outcome = 'Goal')\n",
    "    FROM shots s\n",
    "    WHERE s.Outcome = 'Goal'  -- Only include records where Outcome = 'Goal'\n",
    "    GROUP BY s.Player  -- Group by player name\n",
    "    ORDER BY total_goals DESC\n",
    "    \"\"\"\n",
    "\n",
    "    query2 = '''\n",
    "    SELECT \n",
    "        ap.name AS player_name,  -- Select the player name from the all_players table\n",
    "        SUM(CASE WHEN s.distance > 16 THEN 1 ELSE 0 END) AS goals_gt_16,  -- Sum the goals where distance > 16\n",
    "        SUM(CASE WHEN s.distance <= 16 THEN 1 ELSE 0 END) AS goals_lt_16,  -- Sum the goals where distance <= 16\n",
    "        COUNT(*) AS total_goals  -- Total goals (count all records where Outcome = 'Goal')\n",
    "    FROM shots s\n",
    "    JOIN all_players ap ON s.Player = ap.id  -- Join the shots table with the all_players table on Player and id\n",
    "    WHERE s.Outcome = 'Goal'  -- Only include records where Outcome = 'Goal'\n",
    "    GROUP BY ap.name  -- Group by player name from all_players table\n",
    "    ORDER BY total_goals DESC\n",
    "    '''\n",
    "\n",
    "    \n",
    "    cursor.execute(query)\n",
    "    results_from_shots = cursor.fetchall()\n",
    "\n",
    "    # Create a DataFrame from the query results\n",
    "    df = pd.DataFrame(results_from_shots, columns=['player_name','goals_gt_16', 'goals_lt_16', 'total_goals'])\n",
    "\n",
    "    # Print the top 10 rows of the DataFrame\n",
    "    print(df.head(10))\n",
    "\n",
    "# Call the function and measure execution time\n",
    "result, execution_time = MySQLQ2_1()\n"
   ]
  }
 ],
 "metadata": {
  "kernelspec": {
   "display_name": "venv",
   "language": "python",
   "name": "python3"
  },
  "language_info": {
   "codemirror_mode": {
    "name": "ipython",
    "version": 3
   },
   "file_extension": ".py",
   "mimetype": "text/x-python",
   "name": "python",
   "nbconvert_exporter": "python",
   "pygments_lexer": "ipython3",
   "version": "3.10.11"
  }
 },
 "nbformat": 4,
 "nbformat_minor": 2
}
